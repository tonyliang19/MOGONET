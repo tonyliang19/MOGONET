{
 "cells": [
  {
   "cell_type": "markdown",
   "id": "05241f0c-b296-4872-8133-fb6aa0f97b3a",
   "metadata": {
    "tags": []
   },
   "source": [
    "# Testing the MOGONET paper\n",
    "\n",
    "The link to the paper is [here](https://www.nature.com/articles/s41467-021-23774-w).\n",
    "\n",
    "The link to the code repo is [here](https://www.nature.com/articles/s41467-021-23774-w)\n",
    "\n",
    "Authors: Tongxin Wang, Wei Shao, Zhi Huang, Haixu Tang, Jie Zhang, Zhengming Ding, Kun Huang."
   ]
  },
  {
   "cell_type": "markdown",
   "id": "03b1bf93-e046-4de5-84bc-4f63ea9f8939",
   "metadata": {
    "tags": []
   },
   "source": [
    "## Table of Content\n",
    "- [DATA](#data)\n",
    "- [Main Biomarker](#main-biomarker)\n",
    "- [Main Mogonet](#main-mogonet)\n",
    "- [Models](#models)\n",
    "- [Train_Test](#train-test)\n",
    "- [Feat Importance](#feat-importance)"
   ]
  },
  {
   "cell_type": "markdown",
   "id": "d1afe1b8-cebc-45be-80d1-95cc52c0de73",
   "metadata": {
    "tags": []
   },
   "source": [
    "### Data"
   ]
  },
  {
   "cell_type": "markdown",
   "id": "97aeef91-090a-4f0c-8d0c-02130fce5f4b",
   "metadata": {
    "jp-MarkdownHeadingCollapsed": true,
    "tags": []
   },
   "source": [
    "To demonstrate effectiveness of MOGONET, authors applied proposed method on **four different classification tasks** using **four different datasets** (CHECK):\n",
    "\n",
    "Three types of omics data for each dataset:\n",
    " - mRNA expression data (mRNA)\n",
    " - DNA methylation data (meth)\n",
    " - miRNA expression data (miRNA)\n",
    "\n",
    "Datasets:\n",
    " 1) BReast invasive CArnicoma (**BRCA**)\n",
    "     1) mRNA, 1000 features\n",
    "     2) meth, 1000 features\n",
    "     3) miRNA, 611 observations $\\times$ 502 features (**NOT 503** as shown in [paper](https://www.nature.com/articles/s41467-021-23774-w/tables/1))\n",
    " 2) Religious Orders Study/Memory and Aging Project(**ROSMAP**)\n",
    " 3) Low Grade Glicoma (LGG) --- Missing\n",
    " 4) KIPAN --- Missing\n",
    "\n",
    "\n",
    "    "
   ]
  },
  {
   "cell_type": "code",
   "execution_count": 5,
   "id": "cbb97a00-9c47-403b-82e6-c271144b8e04",
   "metadata": {},
   "outputs": [],
   "source": [
    "# Load libraries \n",
    "import os\n",
    "import numpy as np\n",
    "import torch\n",
    "from train_test import train_test, prepare_trte_data\n",
    "from utils import graph_from_dist_tensor, cosine_distance_torch\n",
    "import time"
   ]
  },
  {
   "cell_type": "code",
   "execution_count": 2,
   "id": "1b1ed56b-9b39-44e1-8c21-74b2a4b1e2ae",
   "metadata": {},
   "outputs": [
    {
     "data": {
      "text/plain": [
       "False"
      ]
     },
     "execution_count": 2,
     "metadata": {},
     "output_type": "execute_result"
    }
   ],
   "source": [
    "# Check if cuda is available\n",
    "torch.cuda.is_available()"
   ]
  },
  {
   "cell_type": "markdown",
   "id": "fd549afe-27fa-483e-927b-8d54061b83ad",
   "metadata": {
    "jp-MarkdownHeadingCollapsed": true,
    "tags": []
   },
   "source": [
    "#### BRCA"
   ]
  },
  {
   "cell_type": "code",
   "execution_count": 5,
   "id": "dbeda296-8b19-4779-b84f-0085434f7910",
   "metadata": {},
   "outputs": [],
   "source": [
    "# Loading the data for BRCA\n",
    "BRCA_FOLDER = \"BRCA/\"\n",
    "BRCA_view = [1, 2, 3]\n",
    "\n",
    "# 1st step is to get prepare up the training data list\n",
    "# all data list of tensors, their index dictionary, and\n",
    "# their corresponding class label.\n",
    "brca_train_list, brca_all_list, brca_idx_dict, brca_labels = prepare_trte_data(data_folder=BRCA_FOLDER,\n",
    "                                                                        view_list=BRCA_view)"
   ]
  },
  {
   "cell_type": "markdown",
   "id": "ef710db0-1986-48b1-afd5-7763bd144904",
   "metadata": {
    "jp-MarkdownHeadingCollapsed": true,
    "tags": []
   },
   "source": [
    "#### ROSMAP"
   ]
  },
  {
   "cell_type": "code",
   "execution_count": 40,
   "id": "302b05a8-3a26-4014-9684-281b284e95cf",
   "metadata": {},
   "outputs": [],
   "source": [
    "# Loading the data for ROSMAP\n",
    "ROSMAP_FOLDER = \"ROSMAP/\"\n",
    "ROSMAP_view = [1, 2, 3]\n",
    "rosmap_train_list, rosmap_all_list, rosmap_idx_dict, ros_labels = prepare_trte_data(data_folder=BRCA_FOLDER,\n",
    "                                                                        view_list=BRCA_view)\n"
   ]
  },
  {
   "cell_type": "markdown",
   "id": "544fe645-7d95-4300-9a45-988fe4434c7e",
   "metadata": {
    "jp-MarkdownHeadingCollapsed": true,
    "tags": []
   },
   "source": [
    "#### Sizes"
   ]
  },
  {
   "cell_type": "code",
   "execution_count": 41,
   "id": "be4ef938-5776-4477-9694-52c0806e5a3e",
   "metadata": {},
   "outputs": [
    {
     "name": "stdout",
     "output_type": "stream",
     "text": [
      "##################################################\n",
      "The dataset is: BRCA\n",
      "Number of tensors in BRCA Train List: 3\n",
      "The size of each tensor is: torch.Size([612, 1000])\n",
      "The size of each tensor is: torch.Size([612, 1000])\n",
      "The size of each tensor is: torch.Size([612, 503])\n",
      "##################################################\n",
      "Number of tensors in BRCA All List: 3\n",
      "The size of each tensor is: torch.Size([875, 1000])\n",
      "The size of each tensor is: torch.Size([875, 1000])\n",
      "The size of each tensor is: torch.Size([875, 503])\n",
      "##################################################\n",
      "The dataset is: ROSMAP\n",
      "Number of tensors in ROSMAP Train List: 3\n",
      "The size of each tensor is: torch.Size([612, 1000])\n",
      "The size of each tensor is: torch.Size([612, 1000])\n",
      "The size of each tensor is: torch.Size([612, 503])\n",
      "##################################################\n",
      "Number of tensors in ROSMAP All List: 3\n",
      "The size of each tensor is: torch.Size([875, 1000])\n",
      "The size of each tensor is: torch.Size([875, 1000])\n",
      "The size of each tensor is: torch.Size([875, 503])\n"
     ]
    }
   ],
   "source": [
    "# Helper function to print size of dataset (num of tensors)\n",
    "# size of each tensor\n",
    "def print_size(train_list, all_list, dataset = \"BRCA\"):\n",
    "    if dataset == \"BRCA\":\n",
    "        tr_name = dataset + \" Train List\"\n",
    "        all_name = dataset + \" All List\"\n",
    "\n",
    "    elif dataset == \"ROSMAP\":\n",
    "        tr_name = dataset + \" Train List\"\n",
    "        all_name = dataset + \" All List\"\n",
    "\n",
    "    else:\n",
    "        return(\"Wrong dataset input\")\n",
    "    print(\"#\" * 50)\n",
    "    print(f\"The dataset is: {dataset}\")\n",
    "    # Prints size of tensor in the train data list\n",
    "    print(f\"Number of tensors in {tr_name}: {len(train_list)}\")\n",
    "    for i in train_list:\n",
    "        print(f\"The size of each tensor is: {i.shape}\")\n",
    "    print(\"#\" * 50)\n",
    "\n",
    "    # Prints size of tensor in the all data list\n",
    "    print(f\"Number of tensors in {all_name}: {len(all_list)}\")\n",
    "    for j in all_list:\n",
    "        print(f\"The size of each tensor is: {j.shape}\")\n",
    "\n",
    "\n",
    "print_size(brca_train_list, brca_all_list)\n",
    "print_size(rosmap_train_list, rosmap_all_list, dataset = \"ROSMAP\")\n"
   ]
  },
  {
   "cell_type": "markdown",
   "id": "7080d2d2-0bcb-4d61-9f61-335954e5dfa5",
   "metadata": {
    "jp-MarkdownHeadingCollapsed": true,
    "tags": []
   },
   "source": [
    "### Main Biomarker"
   ]
  },
  {
   "cell_type": "code",
   "execution_count": null,
   "id": "b7a4c4e8-93c1-47a0-98eb-51b149d3d27b",
   "metadata": {},
   "outputs": [],
   "source": []
  },
  {
   "cell_type": "markdown",
   "id": "668bc76d-7cc4-4d38-9ee0-2c09946d1d4f",
   "metadata": {
    "tags": []
   },
   "source": [
    "### Main Mogonet "
   ]
  },
  {
   "cell_type": "code",
   "execution_count": 3,
   "id": "c190c696-b610-4238-9d8b-e83e1d7013bc",
   "metadata": {},
   "outputs": [],
   "source": [
    "def main_runner(data_folder, view_list=None, lr_e_pretrain = 1e-3, lr_e = 5e-4, lr_c = 1e-3, num_epoch_pretrain = 500, num_epoch = 500):\n",
    "    \"\"\"\n",
    "    Main runner of the MOGONET algorithm, takes several hyperparameters, and does train-test split of the data_folder,\n",
    "    where transforms the data to epochs for GNN. <---- EDIT here\n",
    "    \n",
    "    Args:\n",
    "    \"\"\"\n",
    "    \n",
    "    if data_folder == 'ROSMAP':\n",
    "        num_class = 2\n",
    "    elif data_folder == 'BRCA':\n",
    "        num_class = 5\n",
    "    else:\n",
    "        return(\"Wrong dataset input\")\n",
    "    \n",
    "    train_test(data_folder, view_list, num_class,\n",
    "               lr_e_pretrain, lr_e, lr_c, \n",
    "               num_epoch_pretrain, num_epoch)             "
   ]
  },
  {
   "cell_type": "code",
   "execution_count": 6,
   "id": "93314404-44e3-4c11-85dc-6977fed1af06",
   "metadata": {},
   "outputs": [
    {
     "name": "stdout",
     "output_type": "stream",
     "text": [
      "\n",
      "Pretrain GCNs...\n",
      "\n",
      "Training...\n",
      "\n",
      "Test: Epoch 0\n",
      "Test ACC: 0.110\n",
      "Test F1 weighted: 0.129\n",
      "Test F1 macro: 0.108\n",
      "\n",
      "\n",
      "Test: Epoch 50\n",
      "Test ACC: 0.715\n",
      "Test F1 weighted: 0.639\n",
      "Test F1 macro: 0.461\n",
      "\n",
      "\n",
      "Test: Epoch 100\n",
      "Test ACC: 0.760\n",
      "Test F1 weighted: 0.731\n",
      "Test F1 macro: 0.648\n",
      "\n",
      "\n",
      "Test: Epoch 150\n",
      "Test ACC: 0.779\n",
      "Test F1 weighted: 0.752\n",
      "Test F1 macro: 0.678\n",
      "\n",
      "\n",
      "Test: Epoch 200\n",
      "Test ACC: 0.802\n",
      "Test F1 weighted: 0.779\n",
      "Test F1 macro: 0.718\n",
      "\n",
      "\n",
      "Test: Epoch 250\n",
      "Test ACC: 0.810\n",
      "Test F1 weighted: 0.790\n",
      "Test F1 macro: 0.736\n",
      "\n",
      "\n",
      "Test: Epoch 300\n",
      "Test ACC: 0.798\n",
      "Test F1 weighted: 0.771\n",
      "Test F1 macro: 0.710\n",
      "\n",
      "\n",
      "Test: Epoch 350\n",
      "Test ACC: 0.802\n",
      "Test F1 weighted: 0.774\n",
      "Test F1 macro: 0.722\n",
      "\n",
      "\n",
      "Test: Epoch 400\n",
      "Test ACC: 0.798\n",
      "Test F1 weighted: 0.781\n",
      "Test F1 macro: 0.727\n",
      "\n",
      "\n",
      "Test: Epoch 450\n",
      "Test ACC: 0.802\n",
      "Test F1 weighted: 0.781\n",
      "Test F1 macro: 0.726\n",
      "\n",
      "\n",
      "Test: Epoch 500\n",
      "Test ACC: 0.806\n",
      "Test F1 weighted: 0.795\n",
      "Test F1 macro: 0.746\n",
      "\n",
      "Time taken to train: 65.84119582176208\n"
     ]
    }
   ],
   "source": [
    "# Running on BRCA\n",
    "i = time.time()\n",
    "main_runner(\"BRCA\", [1, 2, 3])\n",
    "e = time.time()\n",
    "print(f\"Time taken to train: {e - i}\")"
   ]
  },
  {
   "cell_type": "code",
   "execution_count": 8,
   "id": "58c042b6-bcc0-4c59-adbd-f79ae1f5a4bd",
   "metadata": {},
   "outputs": [
    {
     "name": "stdout",
     "output_type": "stream",
     "text": [
      "\n",
      "Pretrain GCNs...\n",
      "\n",
      "Training...\n",
      "\n",
      "Test: Epoch 0\n",
      "Test ACC: 0.425\n",
      "Test F1: 0.000\n",
      "Test AUC: 0.315\n",
      "\n",
      "\n",
      "Test: Epoch 50\n",
      "Test ACC: 0.472\n",
      "Test F1: 0.606\n",
      "Test AUC: 0.463\n",
      "\n",
      "\n",
      "Test: Epoch 100\n",
      "Test ACC: 0.670\n",
      "Test F1: 0.737\n",
      "Test AUC: 0.795\n",
      "\n",
      "\n",
      "Test: Epoch 150\n",
      "Test ACC: 0.783\n",
      "Test F1: 0.800\n",
      "Test AUC: 0.865\n",
      "\n",
      "\n",
      "Test: Epoch 200\n",
      "Test ACC: 0.811\n",
      "Test F1: 0.815\n",
      "Test AUC: 0.879\n",
      "\n",
      "\n",
      "Test: Epoch 250\n",
      "Test ACC: 0.792\n",
      "Test F1: 0.807\n",
      "Test AUC: 0.894\n",
      "\n",
      "\n",
      "Test: Epoch 300\n",
      "Test ACC: 0.821\n",
      "Test F1: 0.822\n",
      "Test AUC: 0.892\n",
      "\n",
      "\n",
      "Test: Epoch 350\n",
      "Test ACC: 0.811\n",
      "Test F1: 0.804\n",
      "Test AUC: 0.884\n",
      "\n",
      "\n",
      "Test: Epoch 400\n",
      "Test ACC: 0.821\n",
      "Test F1: 0.819\n",
      "Test AUC: 0.906\n",
      "\n",
      "\n",
      "Test: Epoch 450\n",
      "Test ACC: 0.821\n",
      "Test F1: 0.812\n",
      "Test AUC: 0.894\n",
      "\n",
      "\n",
      "Test: Epoch 500\n",
      "Test ACC: 0.802\n",
      "Test F1: 0.800\n",
      "Test AUC: 0.887\n",
      "\n"
     ]
    }
   ],
   "source": [
    "# Running on ROSMAP\n",
    "main_runner(\"ROSMAP\", [1, 2, 3])"
   ]
  },
  {
   "cell_type": "markdown",
   "id": "084187ec-4697-4063-b0ee-d2532faf5dea",
   "metadata": {
    "jp-MarkdownHeadingCollapsed": true,
    "tags": []
   },
   "source": [
    "### Models"
   ]
  },
  {
   "cell_type": "code",
   "execution_count": null,
   "id": "ebc089db-e11d-4437-b1bd-3d655c5e44ef",
   "metadata": {},
   "outputs": [],
   "source": []
  },
  {
   "cell_type": "markdown",
   "id": "d0f01c84-fe57-47f8-a603-5663a1d58a41",
   "metadata": {
    "jp-MarkdownHeadingCollapsed": true,
    "tags": []
   },
   "source": [
    "### Train Test"
   ]
  },
  {
   "cell_type": "code",
   "execution_count": 6,
   "id": "29ed8b78-4a97-4a20-af40-6e2899ec4cc8",
   "metadata": {},
   "outputs": [],
   "source": [
    "# Loading the data for BRCA\n",
    "BRCA_FOLDER = \"BRCA/\"\n",
    "BRCA_view = [1, 2, 3]\n",
    "\n",
    "# 1st step is to get prepare up the training data list\n",
    "# all data list of tensors, their index dictionary, and\n",
    "# their corresponding class label.\n",
    "brca_train_list, brca_all_list, brca_idx_dict, brca_labels = prepare_trte_data(data_folder=BRCA_FOLDER,\n",
    "                                                                        view_list=BRCA_view)"
   ]
  },
  {
   "cell_type": "code",
   "execution_count": 88,
   "id": "e1c1a145-b20a-4bad-82fc-d90f80c01afa",
   "metadata": {},
   "outputs": [
    {
     "data": {
      "text/plain": [
       "numpy.ndarray"
      ]
     },
     "execution_count": 88,
     "metadata": {},
     "output_type": "execute_result"
    }
   ],
   "source": [
    "type(brca_labels)"
   ]
  },
  {
   "cell_type": "markdown",
   "id": "94c2be80-5e3a-486b-bffd-3dbd0d63608a",
   "metadata": {
    "tags": []
   },
   "source": [
    "### Feat Importance"
   ]
  },
  {
   "cell_type": "code",
   "execution_count": null,
   "id": "3aee4172-3dc8-41bc-bf0f-742571edfca8",
   "metadata": {},
   "outputs": [],
   "source": []
  },
  {
   "cell_type": "markdown",
   "id": "be2e2c1f-fcc3-45c8-8316-576fbd1ca71d",
   "metadata": {
    "jp-MarkdownHeadingCollapsed": true,
    "tags": []
   },
   "source": [
    "## Others"
   ]
  },
  {
   "cell_type": "markdown",
   "id": "6369268a-1e3a-48a4-bfa6-d786f1108afc",
   "metadata": {
    "jp-MarkdownHeadingCollapsed": true,
    "tags": []
   },
   "source": [
    "### prepare_trte_data"
   ]
  },
  {
   "cell_type": "code",
   "execution_count": 1,
   "id": "5d061b55-a9ae-4b45-9228-349005152cf6",
   "metadata": {},
   "outputs": [
    {
     "ename": "NameError",
     "evalue": "name 'torch' is not defined",
     "output_type": "error",
     "traceback": [
      "\u001b[1;31m---------------------------------------------------------------------------\u001b[0m",
      "\u001b[1;31mNameError\u001b[0m                                 Traceback (most recent call last)",
      "Input \u001b[1;32mIn [1]\u001b[0m, in \u001b[0;36m<cell line: 2>\u001b[1;34m()\u001b[0m\n\u001b[0;32m      1\u001b[0m \u001b[38;5;66;03m# Helper function to prepare the data\u001b[39;00m\n\u001b[1;32m----> 2\u001b[0m cuda \u001b[38;5;241m=\u001b[39m \u001b[38;5;28;01mTrue\u001b[39;00m \u001b[38;5;28;01mif\u001b[39;00m \u001b[43mtorch\u001b[49m\u001b[38;5;241m.\u001b[39mcuda\u001b[38;5;241m.\u001b[39mis_available() \u001b[38;5;28;01melse\u001b[39;00m \u001b[38;5;28;01mFalse\u001b[39;00m\n\u001b[0;32m      5\u001b[0m \u001b[38;5;28;01mdef\u001b[39;00m \u001b[38;5;21mprepare_trte_data\u001b[39m(data_folder, view_list):\n\u001b[0;32m      6\u001b[0m     \u001b[38;5;124;03m\"\"\"\u001b[39;00m\n\u001b[0;32m      7\u001b[0m \u001b[38;5;124;03m    Gets all the *tr.csv and *te.csv in the data_folder, and transforms these to list of tensors, then\u001b[39;00m\n\u001b[0;32m      8\u001b[0m \u001b[38;5;124;03m    storing it on several returned objects\u001b[39;00m\n\u001b[1;32m   (...)\u001b[0m\n\u001b[0;32m     18\u001b[0m \u001b[38;5;124;03m        labels:  numpy array that stores the actual class of each observation\u001b[39;00m\n\u001b[0;32m     19\u001b[0m \u001b[38;5;124;03m    \"\"\"\u001b[39;00m\n",
      "\u001b[1;31mNameError\u001b[0m: name 'torch' is not defined"
     ]
    }
   ],
   "source": [
    "# Helper function to prepare the data\n",
    "cuda = True if torch.cuda.is_available() else False\n",
    "\n",
    "\n",
    "def prepare_trte_data(data_folder, view_list):\n",
    "    \"\"\"\n",
    "    Gets all the *tr.csv and *te.csv in the data_folder, and transforms these to list of tensors, then\n",
    "    storing it on several returned objects\n",
    "\n",
    "    Args: \n",
    "        data_folder: path to read the data\n",
    "        view_list: list of files to be viewed [1,2,3] here\n",
    "    Returns:\n",
    "        data_train_list: list of tensors of the train data\n",
    "        data_all_list: list of tensors of combined train and test data\n",
    "        idx_dict: dict that corresponds to the label (id) of both train,\n",
    "                  and test data\n",
    "        labels:  numpy array that stores the actual class of each observation\n",
    "    \"\"\"\n",
    "    num_view = len(view_list)\n",
    "    # Get the labels and transform it to integer to map it\n",
    "    labels_tr = np.loadtxt(os.path.join(data_folder, \"labels_tr.csv\"), delimiter=',')\n",
    "    labels_te = np.loadtxt(os.path.join(data_folder, \"labels_te.csv\"), delimiter=',')\n",
    "    labels_tr = labels_tr.astype(int)\n",
    "    labels_te = labels_te.astype(int)\n",
    "    \n",
    "    # Initialize list to store results\n",
    "    data_tr_list = []\n",
    "    data_te_list = []\n",
    "\n",
    "    # Reads the data in the csv files with _tr / _te\n",
    "    # And append it correspondently to its list\n",
    "    for i in view_list:\n",
    "        data_tr_list.append(np.loadtxt(os.path.join(data_folder, str(i)+\"_tr.csv\"), delimiter=','))\n",
    "        data_te_list.append(np.loadtxt(os.path.join(data_folder, str(i)+\"_te.csv\"), delimiter=','))\n",
    "    num_tr = data_tr_list[0].shape[0]\n",
    "    num_te = data_te_list[0].shape[0]\n",
    "    data_mat_list = []\n",
    "    for i in range(num_view):\n",
    "        data_mat_list.append(np.concatenate((data_tr_list[i], data_te_list[i]), axis=0))\n",
    "    data_tensor_list = []\n",
    "\n",
    "    for i in range(len(data_mat_list)):\n",
    "        data_tensor_list.append(torch.FloatTensor(data_mat_list[i]))\n",
    "        if cuda:\n",
    "            data_tensor_list[i] = data_tensor_list[i].cuda()\n",
    "    idx_dict = {}\n",
    "    idx_dict[\"tr\"] = list(range(num_tr))\n",
    "    idx_dict[\"te\"] = list(range(num_tr, (num_tr+num_te)))\n",
    "    data_train_list = []\n",
    "    data_all_list = []\n",
    "    for i in range(len(data_tensor_list)):\n",
    "        data_train_list.append(data_tensor_list[i][idx_dict[\"tr\"]].clone())\n",
    "        data_all_list.append(torch.cat((data_tensor_list[i][idx_dict[\"tr\"]].clone(),\n",
    "                                       data_tensor_list[i][idx_dict[\"te\"]].clone()),0))\n",
    "    labels = np.concatenate((labels_tr, labels_te))\n",
    "    \n",
    "    return data_train_list, data_all_list, idx_dict, labels"
   ]
  }
 ],
 "metadata": {
  "kernelspec": {
   "display_name": "mogonet_env",
   "language": "python",
   "name": "mogonet_env"
  },
  "language_info": {
   "codemirror_mode": {
    "name": "ipython",
    "version": 3
   },
   "file_extension": ".py",
   "mimetype": "text/x-python",
   "name": "python",
   "nbconvert_exporter": "python",
   "pygments_lexer": "ipython3",
   "version": "3.10.6"
  }
 },
 "nbformat": 4,
 "nbformat_minor": 5
}
