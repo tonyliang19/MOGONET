{
 "cells": [
  {
   "cell_type": "markdown",
   "id": "05241f0c-b296-4872-8133-fb6aa0f97b3a",
   "metadata": {},
   "source": [
    "# Testing the MOGONET paper\n",
    "\n",
    "The link to the paper is [here](https://www.nature.com/articles/s41467-021-23774-w).\n",
    "\n",
    "The link to the code repo is [here](https://www.nature.com/articles/s41467-021-23774-w)\n",
    "\n",
    "Authors: Tongxin Wang, Wei Shao, Zhi Huang, Haixu Tang, Jie Zhang, Zhengming Ding, Kun Huang."
   ]
  },
  {
   "cell_type": "markdown",
   "id": "03b1bf93-e046-4de5-84bc-4f63ea9f8939",
   "metadata": {
    "tags": []
   },
   "source": [
    "## Table of Content\n",
    "- [DATA](#Data)\n",
    "- [Main Biomarker](#Main-Biomarker)\n",
    "- [Main Mogonet](#Main-Mogonet)\n",
    "- [Models](#Models)\n",
    "- [Train_Test](#Train_Test)\n",
    "- [Feat Importance](#Feat-Importance)"
   ]
  },
  {
   "cell_type": "markdown",
   "id": "d1afe1b8-cebc-45be-80d1-95cc52c0de73",
   "metadata": {},
   "source": [
    "### Data"
   ]
  },
  {
   "cell_type": "markdown",
   "id": "97aeef91-090a-4f0c-8d0c-02130fce5f4b",
   "metadata": {
    "jp-MarkdownHeadingCollapsed": true,
    "tags": []
   },
   "source": [
    "To demonstrate effectiveness of MOGONET, authors applied proposed method on **four different classification tasks** using **four different datasets** (CHECK):\n",
    "\n",
    "Three types of omics data for each dataset:\n",
    " - mRNA expression data (mRNA)\n",
    " - DNA methylation data (meth)\n",
    " - miRNA expression data (miRNA)\n",
    "\n",
    "Datasets:\n",
    " 1) BReast invasive CArnicoma (**BRCA**)\n",
    "     1) mRNA, 1000 features\n",
    "     2) meth, 1000 features\n",
    "     3) miRNA, 611 observations $\\times$ 502 features (**NOT 503** as shown in [paper](https://www.nature.com/articles/s41467-021-23774-w/tables/1))\n",
    " 2) Religious Orders Study/Memory and Aging Project(**ROSMAP**)\n",
    " 3) Low Grade Glicoma (LGG) --- Missing\n",
    " 4) KIPAN --- Missing\n",
    "\n",
    "\n",
    "    "
   ]
  },
  {
   "cell_type": "code",
   "execution_count": 14,
   "id": "cbb97a00-9c47-403b-82e6-c271144b8e04",
   "metadata": {},
   "outputs": [],
   "source": [
    "# Load libraries \n",
    "import os\n",
    "import numpy as np\n",
    "import torch"
   ]
  },
  {
   "cell_type": "code",
   "execution_count": 15,
   "id": "8043ee18-5772-48b0-8e99-2b4e4e3c4d37",
   "metadata": {},
   "outputs": [],
   "source": [
    "# Helpers function to read data\n",
    "cuda = True if torch.cuda.is_available() else False\n",
    "\n",
    "\n",
    "def prepare_trte_data(data_folder, view_list):\n",
    "    \"\"\"\n",
    "    Args: \n",
    "        data_folder: path to read the data\n",
    "        view_list: \n",
    "    \"\"\"\n",
    "    num_view = len(view_list)\n",
    "    labels_tr = np.loadtxt(os.path.join(data_folder, \"labels_tr.csv\"), delimiter=',')\n",
    "    labels_te = np.loadtxt(os.path.join(data_folder, \"labels_te.csv\"), delimiter=',')\n",
    "    labels_tr = labels_tr.astype(int)\n",
    "    labels_te = labels_te.astype(int)\n",
    "    data_tr_list = []\n",
    "    data_te_list = []\n",
    "    for i in view_list:\n",
    "        data_tr_list.append(np.loadtxt(os.path.join(data_folder, str(i)+\"_tr.csv\"), delimiter=','))\n",
    "        data_te_list.append(np.loadtxt(os.path.join(data_folder, str(i)+\"_te.csv\"), delimiter=','))\n",
    "    num_tr = data_tr_list[0].shape[0]\n",
    "    num_te = data_te_list[0].shape[0]\n",
    "    data_mat_list = []\n",
    "    for i in range(num_view):\n",
    "        data_mat_list.append(np.concatenate((data_tr_list[i], data_te_list[i]), axis=0))\n",
    "    data_tensor_list = []\n",
    "    for i in range(len(data_mat_list)):\n",
    "        data_tensor_list.append(torch.FloatTensor(data_mat_list[i]))\n",
    "        if cuda:\n",
    "            data_tensor_list[i] = data_tensor_list[i].cuda()\n",
    "    idx_dict = {}\n",
    "    idx_dict[\"tr\"] = list(range(num_tr))\n",
    "    idx_dict[\"te\"] = list(range(num_tr, (num_tr+num_te)))\n",
    "    data_train_list = []\n",
    "    data_all_list = []\n",
    "    for i in range(len(data_tensor_list)):\n",
    "        data_train_list.append(data_tensor_list[i][idx_dict[\"tr\"]].clone())\n",
    "        data_all_list.append(torch.cat((data_tensor_list[i][idx_dict[\"tr\"]].clone(),\n",
    "                                       data_tensor_list[i][idx_dict[\"te\"]].clone()),0))\n",
    "    labels = np.concatenate((labels_tr, labels_te))\n",
    "    \n",
    "    return data_train_list, data_all_list, idx_dict, labels"
   ]
  },
  {
   "cell_type": "markdown",
   "id": "fd549afe-27fa-483e-927b-8d54061b83ad",
   "metadata": {},
   "source": [
    "#### BRCA"
   ]
  },
  {
   "cell_type": "code",
   "execution_count": 37,
   "id": "dbeda296-8b19-4779-b84f-0085434f7910",
   "metadata": {},
   "outputs": [],
   "source": [
    "# Loading the data for BRCA\n",
    "BRCA_FOLDER = \"BRCA/\"\n",
    "BRCA_view = [1,2,3]\n",
    "\n",
    "brca_train_list, brca_all_list, brca_idx_dict, brca_labels = prepare_trte_data(data_folder=BRCA_FOLDER,\n",
    "                                                                        view_list=BRCA_view)"
   ]
  },
  {
   "cell_type": "markdown",
   "id": "ef710db0-1986-48b1-afd5-7763bd144904",
   "metadata": {
    "tags": []
   },
   "source": [
    "#### ROSMAP"
   ]
  },
  {
   "cell_type": "code",
   "execution_count": 38,
   "id": "302b05a8-3a26-4014-9684-281b284e95cf",
   "metadata": {},
   "outputs": [],
   "source": [
    "# Loading the data for ROSMAP\n",
    "ROSMAP_FOLDER = \"ROSMAP/\"\n",
    "ROSMAP_view = [1, 2 , 3]\n",
    "rosmap_train_list, rosmap_all_list, rosmap_idx_dict, ros_labels = prepare_trte_data(data_folder=BRCA_FOLDER,\n",
    "                                                                        view_list=BRCA_view)\n"
   ]
  },
  {
   "cell_type": "markdown",
   "id": "7080d2d2-0bcb-4d61-9f61-335954e5dfa5",
   "metadata": {
    "jp-MarkdownHeadingCollapsed": true,
    "tags": []
   },
   "source": [
    "### Main-Biomarker"
   ]
  },
  {
   "cell_type": "code",
   "execution_count": null,
   "id": "b7a4c4e8-93c1-47a0-98eb-51b149d3d27b",
   "metadata": {},
   "outputs": [],
   "source": []
  },
  {
   "cell_type": "markdown",
   "id": "668bc76d-7cc4-4d38-9ee0-2c09946d1d4f",
   "metadata": {
    "tags": []
   },
   "source": [
    "### Main-Mogonet "
   ]
  },
  {
   "cell_type": "code",
   "execution_count": null,
   "id": "c190c696-b610-4238-9d8b-e83e1d7013bc",
   "metadata": {},
   "outputs": [],
   "source": []
  },
  {
   "cell_type": "markdown",
   "id": "084187ec-4697-4063-b0ee-d2532faf5dea",
   "metadata": {
    "jp-MarkdownHeadingCollapsed": true,
    "tags": []
   },
   "source": [
    "### Models"
   ]
  },
  {
   "cell_type": "code",
   "execution_count": null,
   "id": "ebc089db-e11d-4437-b1bd-3d655c5e44ef",
   "metadata": {},
   "outputs": [],
   "source": []
  },
  {
   "cell_type": "markdown",
   "id": "d0f01c84-fe57-47f8-a603-5663a1d58a41",
   "metadata": {
    "jp-MarkdownHeadingCollapsed": true,
    "tags": []
   },
   "source": [
    "### Train_Test"
   ]
  },
  {
   "cell_type": "code",
   "execution_count": null,
   "id": "29ed8b78-4a97-4a20-af40-6e2899ec4cc8",
   "metadata": {},
   "outputs": [],
   "source": []
  },
  {
   "cell_type": "markdown",
   "id": "94c2be80-5e3a-486b-bffd-3dbd0d63608a",
   "metadata": {
    "jp-MarkdownHeadingCollapsed": true,
    "tags": []
   },
   "source": [
    "### Feat-Importance"
   ]
  },
  {
   "cell_type": "code",
   "execution_count": null,
   "id": "df6d6362-9756-4af4-ba4f-6de4b0717bcf",
   "metadata": {},
   "outputs": [],
   "source": []
  }
 ],
 "metadata": {
  "kernelspec": {
   "display_name": "Python [conda env:pytorch]",
   "language": "python",
   "name": "conda-env-pytorch-py"
  },
  "language_info": {
   "codemirror_mode": {
    "name": "ipython",
    "version": 3
   },
   "file_extension": ".py",
   "mimetype": "text/x-python",
   "name": "python",
   "nbconvert_exporter": "python",
   "pygments_lexer": "ipython3",
   "version": "3.10.5"
  }
 },
 "nbformat": 4,
 "nbformat_minor": 5
}
