{
 "cells": [
  {
   "cell_type": "markdown",
   "id": "05241f0c-b296-4872-8133-fb6aa0f97b3a",
   "metadata": {},
   "source": [
    "# Testing the MOGONET paper\n",
    "\n",
    "The link to the paper is [here](https://www.nature.com/articles/s41467-021-23774-w).\n",
    "\n",
    "The link to the code repo is [here](https://www.nature.com/articles/s41467-021-23774-w)\n",
    "\n",
    "Authors: Tongxin Wang, Wei Shao, Zhi Huang, Haixu Tang, Jie Zhang, Zhengming Ding, Kun Huang."
   ]
  },
  {
   "cell_type": "markdown",
   "id": "03b1bf93-e046-4de5-84bc-4f63ea9f8939",
   "metadata": {
    "tags": []
   },
   "source": [
    "## Table of Content\n",
    "- [DATA](#data)\n",
    "- [Main Biomarker](#main-biomarker)\n",
    "- [Main Mogonet](#main-mogonet)\n",
    "- [Models](#models)\n",
    "- [Train_Test](#train-test)\n",
    "- [Feat Importance](#feat-importance)"
   ]
  },
  {
   "cell_type": "markdown",
   "id": "d1afe1b8-cebc-45be-80d1-95cc52c0de73",
   "metadata": {
    "tags": []
   },
   "source": [
    "### Data"
   ]
  },
  {
   "cell_type": "markdown",
   "id": "97aeef91-090a-4f0c-8d0c-02130fce5f4b",
   "metadata": {
    "jp-MarkdownHeadingCollapsed": true,
    "tags": []
   },
   "source": [
    "To demonstrate effectiveness of MOGONET, authors applied proposed method on **four different classification tasks** using **four different datasets** (CHECK):\n",
    "\n",
    "Three types of omics data for each dataset:\n",
    " - mRNA expression data (mRNA)\n",
    " - DNA methylation data (meth)\n",
    " - miRNA expression data (miRNA)\n",
    "\n",
    "Datasets:\n",
    " 1) BReast invasive CArnicoma (**BRCA**)\n",
    "     1) mRNA, 1000 features\n",
    "     2) meth, 1000 features\n",
    "     3) miRNA, 611 observations $\\times$ 502 features (**NOT 503** as shown in [paper](https://www.nature.com/articles/s41467-021-23774-w/tables/1))\n",
    " 2) Religious Orders Study/Memory and Aging Project(**ROSMAP**)\n",
    " 3) Low Grade Glicoma (LGG) --- Missing\n",
    " 4) KIPAN --- Missing\n",
    "\n",
    "\n",
    "    "
   ]
  },
  {
   "cell_type": "code",
   "execution_count": 4,
   "id": "cbb97a00-9c47-403b-82e6-c271144b8e04",
   "metadata": {},
   "outputs": [],
   "source": [
    "# Load libraries \n",
    "import os\n",
    "import numpy as np\n",
    "import torch\n",
    "from train_test import train_test, prepare_trte_data"
   ]
  },
  {
   "cell_type": "markdown",
   "id": "fd549afe-27fa-483e-927b-8d54061b83ad",
   "metadata": {
    "jp-MarkdownHeadingCollapsed": true,
    "tags": []
   },
   "source": [
    "#### BRCA"
   ]
  },
  {
   "cell_type": "code",
   "execution_count": 5,
   "id": "dbeda296-8b19-4779-b84f-0085434f7910",
   "metadata": {},
   "outputs": [],
   "source": [
    "# Loading the data for BRCA\n",
    "BRCA_FOLDER = \"BRCA/\"\n",
    "BRCA_view = [1, 2, 3]\n",
    "\n",
    "# 1st step is to get prepare up the training data list\n",
    "# all data list of tensors, their index dictionary, and\n",
    "# their corresponding class label.\n",
    "brca_train_list, brca_all_list, brca_idx_dict, brca_labels = prepare_trte_data(data_folder=BRCA_FOLDER,\n",
    "                                                                        view_list=BRCA_view)"
   ]
  },
  {
   "cell_type": "markdown",
   "id": "ef710db0-1986-48b1-afd5-7763bd144904",
   "metadata": {
    "jp-MarkdownHeadingCollapsed": true,
    "tags": []
   },
   "source": [
    "#### ROSMAP"
   ]
  },
  {
   "cell_type": "code",
   "execution_count": 40,
   "id": "302b05a8-3a26-4014-9684-281b284e95cf",
   "metadata": {},
   "outputs": [],
   "source": [
    "# Loading the data for ROSMAP\n",
    "ROSMAP_FOLDER = \"ROSMAP/\"\n",
    "ROSMAP_view = [1, 2, 3]\n",
    "rosmap_train_list, rosmap_all_list, rosmap_idx_dict, ros_labels = prepare_trte_data(data_folder=BRCA_FOLDER,\n",
    "                                                                        view_list=BRCA_view)\n"
   ]
  },
  {
   "cell_type": "markdown",
   "id": "544fe645-7d95-4300-9a45-988fe4434c7e",
   "metadata": {
    "jp-MarkdownHeadingCollapsed": true,
    "tags": []
   },
   "source": [
    "#### Sizes"
   ]
  },
  {
   "cell_type": "code",
   "execution_count": 41,
   "id": "be4ef938-5776-4477-9694-52c0806e5a3e",
   "metadata": {},
   "outputs": [
    {
     "name": "stdout",
     "output_type": "stream",
     "text": [
      "##################################################\n",
      "The dataset is: BRCA\n",
      "Number of tensors in BRCA Train List: 3\n",
      "The size of each tensor is: torch.Size([612, 1000])\n",
      "The size of each tensor is: torch.Size([612, 1000])\n",
      "The size of each tensor is: torch.Size([612, 503])\n",
      "##################################################\n",
      "Number of tensors in BRCA All List: 3\n",
      "The size of each tensor is: torch.Size([875, 1000])\n",
      "The size of each tensor is: torch.Size([875, 1000])\n",
      "The size of each tensor is: torch.Size([875, 503])\n",
      "##################################################\n",
      "The dataset is: ROSMAP\n",
      "Number of tensors in ROSMAP Train List: 3\n",
      "The size of each tensor is: torch.Size([612, 1000])\n",
      "The size of each tensor is: torch.Size([612, 1000])\n",
      "The size of each tensor is: torch.Size([612, 503])\n",
      "##################################################\n",
      "Number of tensors in ROSMAP All List: 3\n",
      "The size of each tensor is: torch.Size([875, 1000])\n",
      "The size of each tensor is: torch.Size([875, 1000])\n",
      "The size of each tensor is: torch.Size([875, 503])\n"
     ]
    }
   ],
   "source": [
    "# Helper function to print size of dataset (num of tensors)\n",
    "# size of each tensor\n",
    "def print_size(train_list, all_list, dataset = \"BRCA\"):\n",
    "    if dataset == \"BRCA\":\n",
    "        tr_name = dataset + \" Train List\"\n",
    "        all_name = dataset + \" All List\"\n",
    "\n",
    "    elif dataset == \"ROSMAP\":\n",
    "        tr_name = dataset + \" Train List\"\n",
    "        all_name = dataset + \" All List\"\n",
    "\n",
    "    else:\n",
    "        return(\"Wrong dataset input\")\n",
    "    print(\"#\" * 50)\n",
    "    print(f\"The dataset is: {dataset}\")\n",
    "    # Prints size of tensor in the train data list\n",
    "    print(f\"Number of tensors in {tr_name}: {len(train_list)}\")\n",
    "    for i in train_list:\n",
    "        print(f\"The size of each tensor is: {i.shape}\")\n",
    "    print(\"#\" * 50)\n",
    "\n",
    "    # Prints size of tensor in the all data list\n",
    "    print(f\"Number of tensors in {all_name}: {len(all_list)}\")\n",
    "    for j in all_list:\n",
    "        print(f\"The size of each tensor is: {j.shape}\")\n",
    "\n",
    "\n",
    "print_size(brca_train_list, brca_all_list)\n",
    "print_size(rosmap_train_list, rosmap_all_list, dataset = \"ROSMAP\")\n"
   ]
  },
  {
   "cell_type": "markdown",
   "id": "7080d2d2-0bcb-4d61-9f61-335954e5dfa5",
   "metadata": {
    "jp-MarkdownHeadingCollapsed": true,
    "tags": []
   },
   "source": [
    "### Main Biomarker"
   ]
  },
  {
   "cell_type": "code",
   "execution_count": null,
   "id": "b7a4c4e8-93c1-47a0-98eb-51b149d3d27b",
   "metadata": {},
   "outputs": [],
   "source": []
  },
  {
   "cell_type": "markdown",
   "id": "668bc76d-7cc4-4d38-9ee0-2c09946d1d4f",
   "metadata": {
    "jp-MarkdownHeadingCollapsed": true,
    "tags": []
   },
   "source": [
    "### Main Mogonet "
   ]
  },
  {
   "cell_type": "code",
   "execution_count": 57,
   "id": "c190c696-b610-4238-9d8b-e83e1d7013bc",
   "metadata": {},
   "outputs": [],
   "source": [
    "def main_runner(data_folder, view_list=None, lr_e_pretrain = 1e-3, lr_e = 5e-4, lr_c = 1e-3, num_epoch_pretrain = 500, num_epoch = 500):\n",
    "    \"\"\"\n",
    "    Main runner of the MOGONET algorithm, takes several hyperparameters, and does train-test split of the data_folder,\n",
    "    where transforms the data to epochs for GNN. <---- EDIT here\n",
    "    \n",
    "    Args:\n",
    "    \"\"\"\n",
    "    \n",
    "    if data_folder == 'ROSMAP':\n",
    "        num_class = 2\n",
    "    elif data_folder == 'BRCA':\n",
    "        num_class = 5\n",
    "    else:\n",
    "        return(\"Wrong dataset input\")\n",
    "    \n",
    "    train_test(data_folder, view_list, num_class,\n",
    "               lr_e_pretrain, lr_e, lr_c, \n",
    "               num_epoch_pretrain, num_epoch)             "
   ]
  },
  {
   "cell_type": "code",
   "execution_count": 58,
   "id": "93314404-44e3-4c11-85dc-6977fed1af06",
   "metadata": {},
   "outputs": [
    {
     "ename": "AttributeError",
     "evalue": "module 'numpy' has no attribute 'asscalar'",
     "output_type": "error",
     "traceback": [
      "\u001b[1;31m---------------------------------------------------------------------------\u001b[0m",
      "\u001b[1;31mAttributeError\u001b[0m                            Traceback (most recent call last)",
      "Input \u001b[1;32mIn [58]\u001b[0m, in \u001b[0;36m<cell line: 1>\u001b[1;34m()\u001b[0m\n\u001b[1;32m----> 1\u001b[0m \u001b[43mmain_runner\u001b[49m\u001b[43m(\u001b[49m\u001b[38;5;124;43m\"\u001b[39;49m\u001b[38;5;124;43mBRCA\u001b[39;49m\u001b[38;5;124;43m\"\u001b[39;49m\u001b[43m,\u001b[49m\u001b[43m \u001b[49m\u001b[43m[\u001b[49m\u001b[38;5;241;43m1\u001b[39;49m\u001b[43m,\u001b[49m\u001b[43m \u001b[49m\u001b[38;5;241;43m2\u001b[39;49m\u001b[43m,\u001b[49m\u001b[43m \u001b[49m\u001b[38;5;241;43m3\u001b[39;49m\u001b[43m]\u001b[49m\u001b[43m)\u001b[49m\n",
      "Input \u001b[1;32mIn [57]\u001b[0m, in \u001b[0;36mmain_runner\u001b[1;34m(data_folder, view_list, lr_e_pretrain, lr_e, lr_c, num_epoch_pretrain, num_epoch)\u001b[0m\n\u001b[0;32m     13\u001b[0m \u001b[38;5;28;01melse\u001b[39;00m:\n\u001b[0;32m     14\u001b[0m     \u001b[38;5;28;01mreturn\u001b[39;00m(\u001b[38;5;124m\"\u001b[39m\u001b[38;5;124mWrong dataset input\u001b[39m\u001b[38;5;124m\"\u001b[39m)\n\u001b[1;32m---> 16\u001b[0m \u001b[43mtrain_test\u001b[49m\u001b[43m(\u001b[49m\u001b[43mdata_folder\u001b[49m\u001b[43m,\u001b[49m\u001b[43m \u001b[49m\u001b[43mview_list\u001b[49m\u001b[43m,\u001b[49m\u001b[43m \u001b[49m\u001b[43mnum_class\u001b[49m\u001b[43m,\u001b[49m\n\u001b[0;32m     17\u001b[0m \u001b[43m           \u001b[49m\u001b[43mlr_e_pretrain\u001b[49m\u001b[43m,\u001b[49m\u001b[43m \u001b[49m\u001b[43mlr_e\u001b[49m\u001b[43m,\u001b[49m\u001b[43m \u001b[49m\u001b[43mlr_c\u001b[49m\u001b[43m,\u001b[49m\u001b[43m \u001b[49m\n\u001b[0;32m     18\u001b[0m \u001b[43m           \u001b[49m\u001b[43mnum_epoch_pretrain\u001b[49m\u001b[43m,\u001b[49m\u001b[43m \u001b[49m\u001b[43mnum_epoch\u001b[49m\u001b[43m)\u001b[49m\n",
      "File \u001b[1;32m~\\Desktop\\2022_w1\\work\\combiolab\\spatial_classifier\\mogonet\\test_code\\MOGONET_CODE\\train_test.py:128\u001b[0m, in \u001b[0;36mtrain_test\u001b[1;34m(data_folder, view_list, num_class, lr_e_pretrain, lr_e, lr_c, num_epoch_pretrain, num_epoch)\u001b[0m\n\u001b[0;32m    126\u001b[0m     onehot_labels_tr_tensor \u001b[38;5;241m=\u001b[39m onehot_labels_tr_tensor\u001b[38;5;241m.\u001b[39mcuda()\n\u001b[0;32m    127\u001b[0m     sample_weight_tr \u001b[38;5;241m=\u001b[39m sample_weight_tr\u001b[38;5;241m.\u001b[39mcuda()\n\u001b[1;32m--> 128\u001b[0m adj_tr_list, adj_te_list \u001b[38;5;241m=\u001b[39m \u001b[43mgen_trte_adj_mat\u001b[49m\u001b[43m(\u001b[49m\u001b[43mdata_tr_list\u001b[49m\u001b[43m,\u001b[49m\u001b[43m \u001b[49m\u001b[43mdata_trte_list\u001b[49m\u001b[43m,\u001b[49m\u001b[43m \u001b[49m\u001b[43mtrte_idx\u001b[49m\u001b[43m,\u001b[49m\u001b[43m \u001b[49m\u001b[43madj_parameter\u001b[49m\u001b[43m)\u001b[49m\n\u001b[0;32m    129\u001b[0m dim_list \u001b[38;5;241m=\u001b[39m [x\u001b[38;5;241m.\u001b[39mshape[\u001b[38;5;241m1\u001b[39m] \u001b[38;5;28;01mfor\u001b[39;00m x \u001b[38;5;129;01min\u001b[39;00m data_tr_list]\n\u001b[0;32m    130\u001b[0m model_dict \u001b[38;5;241m=\u001b[39m init_model_dict(num_view, num_class, dim_list, dim_he_list, dim_hvcdn)\n",
      "File \u001b[1;32m~\\Desktop\\2022_w1\\work\\combiolab\\spatial_classifier\\mogonet\\test_code\\MOGONET_CODE\\train_test.py:54\u001b[0m, in \u001b[0;36mgen_trte_adj_mat\u001b[1;34m(data_tr_list, data_trte_list, trte_idx, adj_parameter)\u001b[0m\n\u001b[0;32m     52\u001b[0m adj_test_list \u001b[38;5;241m=\u001b[39m []\n\u001b[0;32m     53\u001b[0m \u001b[38;5;28;01mfor\u001b[39;00m i \u001b[38;5;129;01min\u001b[39;00m \u001b[38;5;28mrange\u001b[39m(\u001b[38;5;28mlen\u001b[39m(data_tr_list)):\n\u001b[1;32m---> 54\u001b[0m     adj_parameter_adaptive \u001b[38;5;241m=\u001b[39m \u001b[43mcal_adj_mat_parameter\u001b[49m\u001b[43m(\u001b[49m\u001b[43madj_parameter\u001b[49m\u001b[43m,\u001b[49m\u001b[43m \u001b[49m\u001b[43mdata_tr_list\u001b[49m\u001b[43m[\u001b[49m\u001b[43mi\u001b[49m\u001b[43m]\u001b[49m\u001b[43m,\u001b[49m\u001b[43m \u001b[49m\u001b[43madj_metric\u001b[49m\u001b[43m)\u001b[49m\n\u001b[0;32m     55\u001b[0m     adj_train_list\u001b[38;5;241m.\u001b[39mappend(gen_adj_mat_tensor(data_tr_list[i], adj_parameter_adaptive, adj_metric))\n\u001b[0;32m     56\u001b[0m     adj_test_list\u001b[38;5;241m.\u001b[39mappend(gen_test_adj_mat_tensor(data_trte_list[i], trte_idx, adj_parameter_adaptive, adj_metric))\n",
      "File \u001b[1;32m~\\Desktop\\2022_w1\\work\\combiolab\\spatial_classifier\\mogonet\\test_code\\MOGONET_CODE\\utils.py:51\u001b[0m, in \u001b[0;36mcal_adj_mat_parameter\u001b[1;34m(edge_per_node, data, metric)\u001b[0m\n\u001b[0;32m     49\u001b[0m dist \u001b[38;5;241m=\u001b[39m cosine_distance_torch(data, data)\n\u001b[0;32m     50\u001b[0m parameter \u001b[38;5;241m=\u001b[39m torch\u001b[38;5;241m.\u001b[39msort(dist\u001b[38;5;241m.\u001b[39mreshape(\u001b[38;5;241m-\u001b[39m\u001b[38;5;241m1\u001b[39m,))\u001b[38;5;241m.\u001b[39mvalues[edge_per_node\u001b[38;5;241m*\u001b[39mdata\u001b[38;5;241m.\u001b[39mshape[\u001b[38;5;241m0\u001b[39m]]\n\u001b[1;32m---> 51\u001b[0m \u001b[38;5;28;01mreturn\u001b[39;00m \u001b[43mnp\u001b[49m\u001b[38;5;241;43m.\u001b[39;49m\u001b[43masscalar\u001b[49m(parameter\u001b[38;5;241m.\u001b[39mdata\u001b[38;5;241m.\u001b[39mcpu()\u001b[38;5;241m.\u001b[39mnumpy())\n",
      "File \u001b[1;32m~\\miniconda3\\envs\\pytorch\\lib\\site-packages\\numpy\\__init__.py:311\u001b[0m, in \u001b[0;36m__getattr__\u001b[1;34m(attr)\u001b[0m\n\u001b[0;32m    308\u001b[0m     \u001b[38;5;28;01mfrom\u001b[39;00m \u001b[38;5;21;01m.\u001b[39;00m\u001b[38;5;21;01mtesting\u001b[39;00m \u001b[38;5;28;01mimport\u001b[39;00m Tester\n\u001b[0;32m    309\u001b[0m     \u001b[38;5;28;01mreturn\u001b[39;00m Tester\n\u001b[1;32m--> 311\u001b[0m \u001b[38;5;28;01mraise\u001b[39;00m \u001b[38;5;167;01mAttributeError\u001b[39;00m(\u001b[38;5;124m\"\u001b[39m\u001b[38;5;124mmodule \u001b[39m\u001b[38;5;132;01m{!r}\u001b[39;00m\u001b[38;5;124m has no attribute \u001b[39m\u001b[38;5;124m\"\u001b[39m\n\u001b[0;32m    312\u001b[0m                      \u001b[38;5;124m\"\u001b[39m\u001b[38;5;132;01m{!r}\u001b[39;00m\u001b[38;5;124m\"\u001b[39m\u001b[38;5;241m.\u001b[39mformat(\u001b[38;5;18m__name__\u001b[39m, attr))\n",
      "\u001b[1;31mAttributeError\u001b[0m: module 'numpy' has no attribute 'asscalar'"
     ]
    }
   ],
   "source": [
    "main_runner(\"BRCA\", [1, 2, 3])"
   ]
  },
  {
   "cell_type": "markdown",
   "id": "084187ec-4697-4063-b0ee-d2532faf5dea",
   "metadata": {
    "jp-MarkdownHeadingCollapsed": true,
    "tags": []
   },
   "source": [
    "### Models"
   ]
  },
  {
   "cell_type": "code",
   "execution_count": null,
   "id": "ebc089db-e11d-4437-b1bd-3d655c5e44ef",
   "metadata": {},
   "outputs": [],
   "source": []
  },
  {
   "cell_type": "markdown",
   "id": "d0f01c84-fe57-47f8-a603-5663a1d58a41",
   "metadata": {
    "tags": []
   },
   "source": [
    "### Train Test"
   ]
  },
  {
   "cell_type": "code",
   "execution_count": 6,
   "id": "29ed8b78-4a97-4a20-af40-6e2899ec4cc8",
   "metadata": {},
   "outputs": [],
   "source": [
    "# Loading the data for BRCA\n",
    "BRCA_FOLDER = \"BRCA/\"\n",
    "BRCA_view = [1, 2, 3]\n",
    "\n",
    "# 1st step is to get prepare up the training data list\n",
    "# all data list of tensors, their index dictionary, and\n",
    "# their corresponding class label.\n",
    "brca_train_list, brca_all_list, brca_idx_dict, brca_labels = prepare_trte_data(data_folder=BRCA_FOLDER,\n",
    "                                                                        view_list=BRCA_view)"
   ]
  },
  {
   "cell_type": "code",
   "execution_count": 19,
   "id": "d87b7236-f16a-41b8-8a4b-4c76e19d871b",
   "metadata": {},
   "outputs": [
    {
     "data": {
      "text/plain": [
       "tensor([[0.7615, 0.8605, 0.6642,  ..., 0.5645, 0.5360, 0.5845],\n",
       "        [0.8281, 0.8584, 0.6465,  ..., 0.6303, 0.5936, 0.2596],\n",
       "        [0.8959, 0.8155, 0.5906,  ..., 0.8908, 0.6695, 0.1482],\n",
       "        ...,\n",
       "        [0.6335, 0.5735, 0.3636,  ..., 0.4891, 0.2417, 0.1640],\n",
       "        [0.8527, 0.8258, 0.5873,  ..., 0.7349, 0.4855, 0.4430],\n",
       "        [0.8407, 0.8062, 0.6367,  ..., 0.5428, 0.3078, 0.2428]],\n",
       "       device='cuda:0')"
      ]
     },
     "execution_count": 19,
     "metadata": {},
     "output_type": "execute_result"
    }
   ],
   "source": [
    "data = brca_train_list[1]\n",
    "data"
   ]
  },
  {
   "cell_type": "code",
   "execution_count": 20,
   "id": "8c19f87b-e5ef-4648-ba20-3ef7ed3e58a4",
   "metadata": {},
   "outputs": [],
   "source": [
    "dist = cosine_distance_torch(x1 = data, x2 = data)"
   ]
  },
  {
   "cell_type": "code",
   "execution_count": 24,
   "id": "3407ed55-9299-4467-9dcd-e20b75f68f22",
   "metadata": {},
   "outputs": [
    {
     "data": {
      "text/plain": [
       "tensor([[0.7615, 0.8605, 0.6642,  ..., 0.5645, 0.5360, 0.5845],\n",
       "        [0.8281, 0.8584, 0.6465,  ..., 0.6303, 0.5936, 0.2596],\n",
       "        [0.8959, 0.8155, 0.5906,  ..., 0.8908, 0.6695, 0.1482],\n",
       "        ...,\n",
       "        [0.6335, 0.5735, 0.3636,  ..., 0.4891, 0.2417, 0.1640],\n",
       "        [0.8527, 0.8258, 0.5873,  ..., 0.7349, 0.4855, 0.4430],\n",
       "        [0.8407, 0.8062, 0.6367,  ..., 0.5428, 0.3078, 0.2428]],\n",
       "       device='cuda:0')"
      ]
     },
     "execution_count": 24,
     "metadata": {},
     "output_type": "execute_result"
    }
   ],
   "source": [
    "data"
   ]
  },
  {
   "cell_type": "code",
   "execution_count": 32,
   "id": "69d10efb-590f-4dcd-ac79-72182dc6c66e",
   "metadata": {},
   "outputs": [
    {
     "data": {
      "text/plain": [
       "tensor(440.6357, device='cuda:0')"
      ]
     },
     "execution_count": 32,
     "metadata": {},
     "output_type": "execute_result"
    }
   ],
   "source": [
    "data.norm(p=\"fro\")"
   ]
  },
  {
   "cell_type": "code",
   "execution_count": 11,
   "id": "5c574939-4fd2-4e55-b956-f1e852cca29a",
   "metadata": {},
   "outputs": [],
   "source": [
    "def cosine_distance_torch(x1, x2=None, eps=1e-8):\n",
    "    x2 = x1 if x2 is None else x2\n",
    "    # calculates norm for x1 in frobenius form of dimension 1\n",
    "    w1 = x1.norm(p=2, dim=1, keepdim=True)\n",
    "    # calculates norm for x2 in frobenius form of dimension 1\n",
    "    w2 = w1 if x2 is x1 else x2.norm(p=2, dim=1, keepdim=True)\n",
    "    return 1 - torch.mm(x1, x2.t()) / (w1 * w2.t()).clamp(min=eps)\n"
   ]
  },
  {
   "cell_type": "code",
   "execution_count": 10,
   "id": "04548221-dd8d-47bd-8665-a3037093b48e",
   "metadata": {},
   "outputs": [],
   "source": [
    "# Helper function that generates the adjacent matrix of data\n",
    "# and store it as tensor, using cosine metric\n",
    "def gen_adj_mat_tensor(data, parameter, metric=\"cosine\"):\n",
    "    \"\"\"\n",
    "    FILL IN\n",
    "    \n",
    "    Parameters:\n",
    "    ----------\n",
    "        data: FILL\n",
    "        parameter: FILL\n",
    "        metric: \"cosine\", optional\n",
    "    \"\"\"\n",
    "    assert metric == \"cosine\", \"Only cosine distance implemented\"\n",
    "    # Calculates\n",
    "    dist = cosine_distance_torch(data, data)\n",
    "    g = graph_from_dist_tensor(dist, parameter, self_dist=True)\n",
    "    if metric == \"cosine\":\n",
    "        adj = 1-dist\n",
    "    else:\n",
    "        raise NotImplementedError\n",
    "    adj = adj*g \n",
    "    adj_T = adj.transpose(0,1)\n",
    "    I = torch.eye(adj.shape[0])\n",
    "    if cuda:\n",
    "        I = I.cuda()\n",
    "    adj = adj + adj_T*(adj_T > adj).float() - adj*(adj_T > adj).float()\n",
    "    adj = F.normalize(adj + I, p=1)\n",
    "    adj = to_sparse(adj)\n",
    "    \n",
    "    return adj"
   ]
  },
  {
   "cell_type": "code",
   "execution_count": null,
   "id": "803fd1a8-fecf-4c53-b5e5-6d82f4082080",
   "metadata": {},
   "outputs": [],
   "source": []
  },
  {
   "cell_type": "code",
   "execution_count": 9,
   "id": "4ced8589-87a4-48f9-b199-095805a6a18d",
   "metadata": {},
   "outputs": [],
   "source": [
    "# Helper function to generate adjacent matrix of the training\n",
    "# and testing data\n",
    "def gen_trte_adj_mat(data_tr_list, data_trte_list, trte_idx, adj_parameter):\n",
    "    \"\"\"\n",
    "    This function calculates the adjacent matrix as tensor for the training data\n",
    "    and the testing data correspondently to some adj_parameter\n",
    "\n",
    "    The default metric is 'cosine', as its the only implemented algorithm.\n",
    "\n",
    "    Parameters:\n",
    "    ----------\n",
    "        data_tr_list: list of tensor (training) generated from prepare_trte_data\n",
    "        data_trte_list: list of tensor (train + test) generated from \n",
    "                        prepare_trte_data\n",
    "        trte_idx: index dictionary of train+test data\n",
    "        adj_parameter: FILL_UP HERE\n",
    "    \n",
    "    Returns:\n",
    "    -------\n",
    "        adj_train_list: list of adjacent tensors to training data\n",
    "        adj_test_list: list of adjacent tensors to the train+test data? \n",
    "    \"\"\"\n",
    "    adj_metric = \"cosine\" # cosine distance\n",
    "    adj_train_list = []\n",
    "    adj_test_list = []\n",
    "    for i in range(len(data_tr_list)):\n",
    "        adj_parameter_adaptive = cal_adj_mat_parameter(adj_parameter, data_tr_list[i], adj_metric)\n",
    "        adj_train_list.append(gen_adj_mat_tensor(data_tr_list[i], adj_parameter_adaptive, adj_metric))\n",
    "        adj_test_list.append(gen_test_adj_mat_tensor(data_trte_list[i], trte_idx, adj_parameter_adaptive, adj_metric))\n",
    "    \n",
    "    return adj_train_list, adj_test_list"
   ]
  },
  {
   "cell_type": "markdown",
   "id": "94c2be80-5e3a-486b-bffd-3dbd0d63608a",
   "metadata": {
    "tags": []
   },
   "source": [
    "### Feat Importance"
   ]
  },
  {
   "cell_type": "code",
   "execution_count": null,
   "id": "3aee4172-3dc8-41bc-bf0f-742571edfca8",
   "metadata": {},
   "outputs": [],
   "source": []
  },
  {
   "cell_type": "markdown",
   "id": "be2e2c1f-fcc3-45c8-8316-576fbd1ca71d",
   "metadata": {
    "jp-MarkdownHeadingCollapsed": true,
    "tags": []
   },
   "source": [
    "## Others"
   ]
  },
  {
   "cell_type": "markdown",
   "id": "6369268a-1e3a-48a4-bfa6-d786f1108afc",
   "metadata": {
    "jp-MarkdownHeadingCollapsed": true,
    "tags": []
   },
   "source": [
    "### prepare_trte_data"
   ]
  },
  {
   "cell_type": "code",
   "execution_count": 1,
   "id": "5d061b55-a9ae-4b45-9228-349005152cf6",
   "metadata": {},
   "outputs": [
    {
     "ename": "NameError",
     "evalue": "name 'torch' is not defined",
     "output_type": "error",
     "traceback": [
      "\u001b[1;31m---------------------------------------------------------------------------\u001b[0m",
      "\u001b[1;31mNameError\u001b[0m                                 Traceback (most recent call last)",
      "Input \u001b[1;32mIn [1]\u001b[0m, in \u001b[0;36m<cell line: 2>\u001b[1;34m()\u001b[0m\n\u001b[0;32m      1\u001b[0m \u001b[38;5;66;03m# Helper function to prepare the data\u001b[39;00m\n\u001b[1;32m----> 2\u001b[0m cuda \u001b[38;5;241m=\u001b[39m \u001b[38;5;28;01mTrue\u001b[39;00m \u001b[38;5;28;01mif\u001b[39;00m \u001b[43mtorch\u001b[49m\u001b[38;5;241m.\u001b[39mcuda\u001b[38;5;241m.\u001b[39mis_available() \u001b[38;5;28;01melse\u001b[39;00m \u001b[38;5;28;01mFalse\u001b[39;00m\n\u001b[0;32m      5\u001b[0m \u001b[38;5;28;01mdef\u001b[39;00m \u001b[38;5;21mprepare_trte_data\u001b[39m(data_folder, view_list):\n\u001b[0;32m      6\u001b[0m     \u001b[38;5;124;03m\"\"\"\u001b[39;00m\n\u001b[0;32m      7\u001b[0m \u001b[38;5;124;03m    Gets all the *tr.csv and *te.csv in the data_folder, and transforms these to list of tensors, then\u001b[39;00m\n\u001b[0;32m      8\u001b[0m \u001b[38;5;124;03m    storing it on several returned objects\u001b[39;00m\n\u001b[1;32m   (...)\u001b[0m\n\u001b[0;32m     18\u001b[0m \u001b[38;5;124;03m        labels:  numpy array that stores the actual class of each observation\u001b[39;00m\n\u001b[0;32m     19\u001b[0m \u001b[38;5;124;03m    \"\"\"\u001b[39;00m\n",
      "\u001b[1;31mNameError\u001b[0m: name 'torch' is not defined"
     ]
    }
   ],
   "source": [
    "# Helper function to prepare the data\n",
    "cuda = True if torch.cuda.is_available() else False\n",
    "\n",
    "\n",
    "def prepare_trte_data(data_folder, view_list):\n",
    "    \"\"\"\n",
    "    Gets all the *tr.csv and *te.csv in the data_folder, and transforms these to list of tensors, then\n",
    "    storing it on several returned objects\n",
    "\n",
    "    Args: \n",
    "        data_folder: path to read the data\n",
    "        view_list: list of files to be viewed [1,2,3] here\n",
    "    Returns:\n",
    "        data_train_list: list of tensors of the train data\n",
    "        data_all_list: list of tensors of combined train and test data\n",
    "        idx_dict: dict that corresponds to the label (id) of both train,\n",
    "                  and test data\n",
    "        labels:  numpy array that stores the actual class of each observation\n",
    "    \"\"\"\n",
    "    num_view = len(view_list)\n",
    "    # Get the labels and transform it to integer to map it\n",
    "    labels_tr = np.loadtxt(os.path.join(data_folder, \"labels_tr.csv\"), delimiter=',')\n",
    "    labels_te = np.loadtxt(os.path.join(data_folder, \"labels_te.csv\"), delimiter=',')\n",
    "    labels_tr = labels_tr.astype(int)\n",
    "    labels_te = labels_te.astype(int)\n",
    "    \n",
    "    # Initialize list to store results\n",
    "    data_tr_list = []\n",
    "    data_te_list = []\n",
    "\n",
    "    # Reads the data in the csv files with _tr / _te\n",
    "    # And append it correspondently to its list\n",
    "    for i in view_list:\n",
    "        data_tr_list.append(np.loadtxt(os.path.join(data_folder, str(i)+\"_tr.csv\"), delimiter=','))\n",
    "        data_te_list.append(np.loadtxt(os.path.join(data_folder, str(i)+\"_te.csv\"), delimiter=','))\n",
    "    num_tr = data_tr_list[0].shape[0]\n",
    "    num_te = data_te_list[0].shape[0]\n",
    "    data_mat_list = []\n",
    "    for i in range(num_view):\n",
    "        data_mat_list.append(np.concatenate((data_tr_list[i], data_te_list[i]), axis=0))\n",
    "    data_tensor_list = []\n",
    "\n",
    "    for i in range(len(data_mat_list)):\n",
    "        data_tensor_list.append(torch.FloatTensor(data_mat_list[i]))\n",
    "        if cuda:\n",
    "            data_tensor_list[i] = data_tensor_list[i].cuda()\n",
    "    idx_dict = {}\n",
    "    idx_dict[\"tr\"] = list(range(num_tr))\n",
    "    idx_dict[\"te\"] = list(range(num_tr, (num_tr+num_te)))\n",
    "    data_train_list = []\n",
    "    data_all_list = []\n",
    "    for i in range(len(data_tensor_list)):\n",
    "        data_train_list.append(data_tensor_list[i][idx_dict[\"tr\"]].clone())\n",
    "        data_all_list.append(torch.cat((data_tensor_list[i][idx_dict[\"tr\"]].clone(),\n",
    "                                       data_tensor_list[i][idx_dict[\"te\"]].clone()),0))\n",
    "    labels = np.concatenate((labels_tr, labels_te))\n",
    "    \n",
    "    return data_train_list, data_all_list, idx_dict, labels"
   ]
  }
 ],
 "metadata": {
  "kernelspec": {
   "display_name": "Python [conda env:pytorch]",
   "language": "python",
   "name": "conda-env-pytorch-py"
  },
  "language_info": {
   "codemirror_mode": {
    "name": "ipython",
    "version": 3
   },
   "file_extension": ".py",
   "mimetype": "text/x-python",
   "name": "python",
   "nbconvert_exporter": "python",
   "pygments_lexer": "ipython3",
   "version": "3.10.5"
  }
 },
 "nbformat": 4,
 "nbformat_minor": 5
}
