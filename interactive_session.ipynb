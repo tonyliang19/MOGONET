{
 "cells": [
  {
   "cell_type": "markdown",
   "id": "05241f0c-b296-4872-8133-fb6aa0f97b3a",
   "metadata": {},
   "source": [
    "# Testing the MOGONET paper\n",
    "\n",
    "The link to the paper is [here](https://www.nature.com/articles/s41467-021-23774-w).\n",
    "\n",
    "The link to the code repo is [here](https://www.nature.com/articles/s41467-021-23774-w)\n",
    "\n",
    "Authors: Tongxin Wang, Wei Shao, Zhi Huang, Haixu Tang, Jie Zhang, Zhengming Ding, Kun Huang."
   ]
  },
  {
   "cell_type": "markdown",
   "id": "03b1bf93-e046-4de5-84bc-4f63ea9f8939",
   "metadata": {
    "tags": []
   },
   "source": [
    "## Table of Content\n",
    "- [DATA](#data)\n",
    "- [Main Biomarker](#main-biomarker)\n",
    "- [Main Mogonet](#main-mogonet)\n",
    "- [Models](#models)\n",
    "- [Train_Test](#train-test)\n",
    "- [Feat Importance](#feat-importance)"
   ]
  },
  {
   "cell_type": "markdown",
   "id": "d1afe1b8-cebc-45be-80d1-95cc52c0de73",
   "metadata": {
    "tags": []
   },
   "source": [
    "### Data"
   ]
  },
  {
   "cell_type": "markdown",
   "id": "97aeef91-090a-4f0c-8d0c-02130fce5f4b",
   "metadata": {
    "jp-MarkdownHeadingCollapsed": true,
    "tags": []
   },
   "source": [
    "To demonstrate effectiveness of MOGONET, authors applied proposed method on **four different classification tasks** using **four different datasets** (CHECK):\n",
    "\n",
    "Three types of omics data for each dataset:\n",
    " - mRNA expression data (mRNA)\n",
    " - DNA methylation data (meth)\n",
    " - miRNA expression data (miRNA)\n",
    "\n",
    "Datasets:\n",
    " 1) BReast invasive CArnicoma (**BRCA**)\n",
    "     1) mRNA, 1000 features\n",
    "     2) meth, 1000 features\n",
    "     3) miRNA, 611 observations $\\times$ 502 features (**NOT 503** as shown in [paper](https://www.nature.com/articles/s41467-021-23774-w/tables/1))\n",
    " 2) Religious Orders Study/Memory and Aging Project(**ROSMAP**)\n",
    " 3) Low Grade Glicoma (LGG) --- Missing\n",
    " 4) KIPAN --- Missing\n",
    "\n",
    "\n",
    "    "
   ]
  },
  {
   "cell_type": "code",
   "execution_count": 1,
   "id": "cbb97a00-9c47-403b-82e6-c271144b8e04",
   "metadata": {},
   "outputs": [
    {
     "name": "stderr",
     "output_type": "stream",
     "text": [
      "C:\\Users\\chunq\\miniconda3\\envs\\pytorch\\lib\\site-packages\\tqdm\\auto.py:22: TqdmWarning: IProgress not found. Please update jupyter and ipywidgets. See https://ipywidgets.readthedocs.io/en/stable/user_install.html\n",
      "  from .autonotebook import tqdm as notebook_tqdm\n"
     ]
    }
   ],
   "source": [
    "# Load libraries \n",
    "import os\n",
    "import numpy as np\n",
    "import torch\n",
    "from train_test import train_test, prepare_trte_data\n",
    "from utils import graph_from_dist_tensor, cosine_distance_torch"
   ]
  },
  {
   "cell_type": "markdown",
   "id": "fd549afe-27fa-483e-927b-8d54061b83ad",
   "metadata": {
    "jp-MarkdownHeadingCollapsed": true,
    "tags": []
   },
   "source": [
    "#### BRCA"
   ]
  },
  {
   "cell_type": "code",
   "execution_count": null,
   "id": "dbeda296-8b19-4779-b84f-0085434f7910",
   "metadata": {},
   "outputs": [],
   "source": [
    "# Loading the data for BRCA\n",
    "BRCA_FOLDER = \"BRCA/\"\n",
    "BRCA_view = [1, 2, 3]\n",
    "\n",
    "# 1st step is to get prepare up the training data list\n",
    "# all data list of tensors, their index dictionary, and\n",
    "# their corresponding class label.\n",
    "brca_train_list, brca_all_list, brca_idx_dict, brca_labels = prepare_trte_data(data_folder=BRCA_FOLDER,\n",
    "                                                                        view_list=BRCA_view)"
   ]
  },
  {
   "cell_type": "markdown",
   "id": "ef710db0-1986-48b1-afd5-7763bd144904",
   "metadata": {
    "jp-MarkdownHeadingCollapsed": true,
    "tags": []
   },
   "source": [
    "#### ROSMAP"
   ]
  },
  {
   "cell_type": "code",
   "execution_count": null,
   "id": "302b05a8-3a26-4014-9684-281b284e95cf",
   "metadata": {},
   "outputs": [],
   "source": [
    "# Loading the data for ROSMAP\n",
    "ROSMAP_FOLDER = \"ROSMAP/\"\n",
    "ROSMAP_view = [1, 2, 3]\n",
    "rosmap_train_list, rosmap_all_list, rosmap_idx_dict, ros_labels = prepare_trte_data(data_folder=BRCA_FOLDER,\n",
    "                                                                        view_list=BRCA_view)\n"
   ]
  },
  {
   "cell_type": "markdown",
   "id": "544fe645-7d95-4300-9a45-988fe4434c7e",
   "metadata": {
    "jp-MarkdownHeadingCollapsed": true,
    "tags": []
   },
   "source": [
    "#### Sizes"
   ]
  },
  {
   "cell_type": "code",
   "execution_count": null,
   "id": "be4ef938-5776-4477-9694-52c0806e5a3e",
   "metadata": {},
   "outputs": [],
   "source": [
    "# Helper function to print size of dataset (num of tensors)\n",
    "# size of each tensor\n",
    "def print_size(train_list, all_list, dataset = \"BRCA\"):\n",
    "    if dataset == \"BRCA\":\n",
    "        tr_name = dataset + \" Train List\"\n",
    "        all_name = dataset + \" All List\"\n",
    "\n",
    "    elif dataset == \"ROSMAP\":\n",
    "        tr_name = dataset + \" Train List\"\n",
    "        all_name = dataset + \" All List\"\n",
    "\n",
    "    else:\n",
    "        return(\"Wrong dataset input\")\n",
    "    print(\"#\" * 50)\n",
    "    print(f\"The dataset is: {dataset}\")\n",
    "    # Prints size of tensor in the train data list\n",
    "    print(f\"Number of tensors in {tr_name}: {len(train_list)}\")\n",
    "    for i in train_list:\n",
    "        print(f\"The size of each tensor is: {i.shape}\")\n",
    "    print(\"#\" * 50)\n",
    "\n",
    "    # Prints size of tensor in the all data list\n",
    "    print(f\"Number of tensors in {all_name}: {len(all_list)}\")\n",
    "    for j in all_list:\n",
    "        print(f\"The size of each tensor is: {j.shape}\")\n",
    "\n",
    "\n",
    "print_size(brca_train_list, brca_all_list)\n",
    "print_size(rosmap_train_list, rosmap_all_list, dataset = \"ROSMAP\")\n"
   ]
  },
  {
   "cell_type": "markdown",
   "id": "7080d2d2-0bcb-4d61-9f61-335954e5dfa5",
   "metadata": {
    "jp-MarkdownHeadingCollapsed": true,
    "tags": []
   },
   "source": [
    "### Main Biomarker"
   ]
  },
  {
   "cell_type": "code",
   "execution_count": null,
   "id": "b7a4c4e8-93c1-47a0-98eb-51b149d3d27b",
   "metadata": {},
   "outputs": [],
   "source": []
  },
  {
   "cell_type": "markdown",
   "id": "668bc76d-7cc4-4d38-9ee0-2c09946d1d4f",
   "metadata": {
    "tags": []
   },
   "source": [
    "### Main Mogonet "
   ]
  },
  {
   "cell_type": "code",
   "execution_count": 2,
   "id": "c190c696-b610-4238-9d8b-e83e1d7013bc",
   "metadata": {},
   "outputs": [],
   "source": [
    "def main_runner(data_folder, view_list=None, lr_e_pretrain = 1e-3, lr_e = 5e-4, lr_c = 1e-3, num_epoch_pretrain = 500, num_epoch = 500):\n",
    "    \"\"\"\n",
    "    Main runner of the MOGONET algorithm, takes several hyperparameters, and does train-test split of the data_folder,\n",
    "    where transforms the data to epochs for GNN. <---- EDIT here\n",
    "    \n",
    "    Args:\n",
    "    \"\"\"\n",
    "    \n",
    "    if data_folder == 'ROSMAP':\n",
    "        num_class = 2\n",
    "    elif data_folder == 'BRCA':\n",
    "        num_class = 5\n",
    "    else:\n",
    "        return(\"Wrong dataset input\")\n",
    "    \n",
    "    train_test(data_folder, view_list, num_class,\n",
    "               lr_e_pretrain, lr_e, lr_c, \n",
    "               num_epoch_pretrain, num_epoch)             "
   ]
  },
  {
   "cell_type": "code",
   "execution_count": 3,
   "id": "93314404-44e3-4c11-85dc-6977fed1af06",
   "metadata": {},
   "outputs": [
    {
     "name": "stdout",
     "output_type": "stream",
     "text": [
      "\n",
      "Pretrain GCNs...\n",
      "\n",
      "Training...\n",
      "\n",
      "Test: Epoch 0\n",
      "Test ACC: 0.502\n",
      "Test F1 weighted: 0.422\n",
      "Test F1 macro: 0.225\n",
      "\n",
      "\n",
      "Test: Epoch 50\n",
      "Test ACC: 0.749\n",
      "Test F1 weighted: 0.700\n",
      "Test F1 macro: 0.579\n",
      "\n",
      "\n",
      "Test: Epoch 100\n",
      "Test ACC: 0.772\n",
      "Test F1 weighted: 0.737\n",
      "Test F1 macro: 0.640\n",
      "\n",
      "\n",
      "Test: Epoch 150\n",
      "Test ACC: 0.795\n",
      "Test F1 weighted: 0.775\n",
      "Test F1 macro: 0.684\n",
      "\n",
      "\n",
      "Test: Epoch 200\n",
      "Test ACC: 0.810\n",
      "Test F1 weighted: 0.791\n",
      "Test F1 macro: 0.704\n",
      "\n",
      "\n",
      "Test: Epoch 250\n",
      "Test ACC: 0.783\n",
      "Test F1 weighted: 0.742\n",
      "Test F1 macro: 0.647\n",
      "\n",
      "\n",
      "Test: Epoch 300\n",
      "Test ACC: 0.802\n",
      "Test F1 weighted: 0.771\n",
      "Test F1 macro: 0.712\n",
      "\n",
      "\n",
      "Test: Epoch 350\n",
      "Test ACC: 0.810\n",
      "Test F1 weighted: 0.796\n",
      "Test F1 macro: 0.739\n",
      "\n",
      "\n",
      "Test: Epoch 400\n",
      "Test ACC: 0.810\n",
      "Test F1 weighted: 0.794\n",
      "Test F1 macro: 0.727\n",
      "\n",
      "\n",
      "Test: Epoch 450\n",
      "Test ACC: 0.787\n",
      "Test F1 weighted: 0.760\n",
      "Test F1 macro: 0.695\n",
      "\n",
      "\n",
      "Test: Epoch 500\n",
      "Test ACC: 0.817\n",
      "Test F1 weighted: 0.793\n",
      "Test F1 macro: 0.723\n",
      "\n"
     ]
    }
   ],
   "source": [
    "main_runner(\"BRCA\", [1, 2, 3])"
   ]
  },
  {
   "cell_type": "markdown",
   "id": "084187ec-4697-4063-b0ee-d2532faf5dea",
   "metadata": {
    "jp-MarkdownHeadingCollapsed": true,
    "tags": []
   },
   "source": [
    "### Models"
   ]
  },
  {
   "cell_type": "code",
   "execution_count": null,
   "id": "ebc089db-e11d-4437-b1bd-3d655c5e44ef",
   "metadata": {},
   "outputs": [],
   "source": []
  },
  {
   "cell_type": "markdown",
   "id": "d0f01c84-fe57-47f8-a603-5663a1d58a41",
   "metadata": {
    "tags": []
   },
   "source": [
    "### Train Test"
   ]
  },
  {
   "cell_type": "code",
   "execution_count": null,
   "id": "29ed8b78-4a97-4a20-af40-6e2899ec4cc8",
   "metadata": {},
   "outputs": [],
   "source": [
    "# Loading the data for BRCA\n",
    "BRCA_FOLDER = \"BRCA/\"\n",
    "BRCA_view = [1, 2, 3]\n",
    "\n",
    "# 1st step is to get prepare up the training data list\n",
    "# all data list of tensors, their index dictionary, and\n",
    "# their corresponding class label.\n",
    "brca_train_list, brca_all_list, brca_idx_dict, brca_labels = prepare_trte_data(data_folder=BRCA_FOLDER,\n",
    "                                                                        view_list=BRCA_view)"
   ]
  },
  {
   "cell_type": "code",
   "execution_count": null,
   "id": "e1c1a145-b20a-4bad-82fc-d90f80c01afa",
   "metadata": {},
   "outputs": [],
   "source": [
    "type(brca_labels)"
   ]
  },
  {
   "cell_type": "markdown",
   "id": "94c2be80-5e3a-486b-bffd-3dbd0d63608a",
   "metadata": {
    "tags": []
   },
   "source": [
    "### Feat Importance"
   ]
  },
  {
   "cell_type": "code",
   "execution_count": null,
   "id": "3aee4172-3dc8-41bc-bf0f-742571edfca8",
   "metadata": {},
   "outputs": [],
   "source": []
  },
  {
   "cell_type": "markdown",
   "id": "be2e2c1f-fcc3-45c8-8316-576fbd1ca71d",
   "metadata": {
    "jp-MarkdownHeadingCollapsed": true,
    "tags": []
   },
   "source": [
    "## Others"
   ]
  },
  {
   "cell_type": "markdown",
   "id": "6369268a-1e3a-48a4-bfa6-d786f1108afc",
   "metadata": {
    "jp-MarkdownHeadingCollapsed": true,
    "tags": []
   },
   "source": [
    "### prepare_trte_data"
   ]
  },
  {
   "cell_type": "code",
   "execution_count": null,
   "id": "5d061b55-a9ae-4b45-9228-349005152cf6",
   "metadata": {},
   "outputs": [],
   "source": [
    "# Helper function to prepare the data\n",
    "cuda = True if torch.cuda.is_available() else False\n",
    "\n",
    "\n",
    "def prepare_trte_data(data_folder, view_list):\n",
    "    \"\"\"\n",
    "    Gets all the *tr.csv and *te.csv in the data_folder, and transforms these to list of tensors, then\n",
    "    storing it on several returned objects\n",
    "\n",
    "    Args: \n",
    "        data_folder: path to read the data\n",
    "        view_list: list of files to be viewed [1,2,3] here\n",
    "    Returns:\n",
    "        data_train_list: list of tensors of the train data\n",
    "        data_all_list: list of tensors of combined train and test data\n",
    "        idx_dict: dict that corresponds to the label (id) of both train,\n",
    "                  and test data\n",
    "        labels:  numpy array that stores the actual class of each observation\n",
    "    \"\"\"\n",
    "    num_view = len(view_list)\n",
    "    # Get the labels and transform it to integer to map it\n",
    "    labels_tr = np.loadtxt(os.path.join(data_folder, \"labels_tr.csv\"), delimiter=',')\n",
    "    labels_te = np.loadtxt(os.path.join(data_folder, \"labels_te.csv\"), delimiter=',')\n",
    "    labels_tr = labels_tr.astype(int)\n",
    "    labels_te = labels_te.astype(int)\n",
    "    \n",
    "    # Initialize list to store results\n",
    "    data_tr_list = []\n",
    "    data_te_list = []\n",
    "\n",
    "    # Reads the data in the csv files with _tr / _te\n",
    "    # And append it correspondently to its list\n",
    "    for i in view_list:\n",
    "        data_tr_list.append(np.loadtxt(os.path.join(data_folder, str(i)+\"_tr.csv\"), delimiter=','))\n",
    "        data_te_list.append(np.loadtxt(os.path.join(data_folder, str(i)+\"_te.csv\"), delimiter=','))\n",
    "    num_tr = data_tr_list[0].shape[0]\n",
    "    num_te = data_te_list[0].shape[0]\n",
    "    data_mat_list = []\n",
    "    for i in range(num_view):\n",
    "        data_mat_list.append(np.concatenate((data_tr_list[i], data_te_list[i]), axis=0))\n",
    "    data_tensor_list = []\n",
    "\n",
    "    for i in range(len(data_mat_list)):\n",
    "        data_tensor_list.append(torch.FloatTensor(data_mat_list[i]))\n",
    "        if cuda:\n",
    "            data_tensor_list[i] = data_tensor_list[i].cuda()\n",
    "    idx_dict = {}\n",
    "    idx_dict[\"tr\"] = list(range(num_tr))\n",
    "    idx_dict[\"te\"] = list(range(num_tr, (num_tr+num_te)))\n",
    "    data_train_list = []\n",
    "    data_all_list = []\n",
    "    for i in range(len(data_tensor_list)):\n",
    "        data_train_list.append(data_tensor_list[i][idx_dict[\"tr\"]].clone())\n",
    "        data_all_list.append(torch.cat((data_tensor_list[i][idx_dict[\"tr\"]].clone(),\n",
    "                                       data_tensor_list[i][idx_dict[\"te\"]].clone()),0))\n",
    "    labels = np.concatenate((labels_tr, labels_te))\n",
    "    \n",
    "    return data_train_list, data_all_list, idx_dict, labels"
   ]
  }
 ],
 "metadata": {
  "kernelspec": {
   "display_name": "Python [conda env:pytorch]",
   "language": "python",
   "name": "conda-env-pytorch-py"
  },
  "language_info": {
   "codemirror_mode": {
    "name": "ipython",
    "version": 3
   },
   "file_extension": ".py",
   "mimetype": "text/x-python",
   "name": "python",
   "nbconvert_exporter": "python",
   "pygments_lexer": "ipython3",
   "version": "3.10.5"
  }
 },
 "nbformat": 4,
 "nbformat_minor": 5
}
